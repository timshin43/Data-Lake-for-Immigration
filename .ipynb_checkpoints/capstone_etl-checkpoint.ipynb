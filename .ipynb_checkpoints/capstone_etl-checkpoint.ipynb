{
 "cells": [
  {
   "cell_type": "markdown",
   "metadata": {
    "editable": true
   },
   "source": [
    "# Project Title\n",
    "### Data Engineering Capstone Project\n",
    "\n",
    "#### Project Summary\n",
    "This pipeline creates a data lake for CIC immigration data. It extratcs data from S3, process it using Spark and loads data back to S3 as a set of parquete files"
   ]
  },
  {
   "cell_type": "code",
   "execution_count": 1,
   "metadata": {
    "editable": true
   },
   "outputs": [],
   "source": [
    "#Import Librarires\n",
    "import pandas as pd\n",
    "import os\n",
    "import configparser\n",
    "from pyspark.sql.functions import *\n",
    "from pyspark.sql import SparkSession\n",
    "from datetime import datetime, timedelta, date\n",
    "from pyspark.sql import types as T\n",
    "from pyspark.sql.functions import udf, col, monotonically_increasing_id\n",
    "from pyspark.sql.functions import year, month, dayofmonth, hour, weekofyear"
   ]
  },
  {
   "cell_type": "code",
   "execution_count": 2,
   "metadata": {
    "editable": true
   },
   "outputs": [],
   "source": [
    "# Read Credentials\n",
    "\n",
    "# Reading credentials\n",
    "config = configparser.ConfigParser()\n",
    "config.read('conf.cfg')\n",
    "\n",
    "os.environ['AWS_ACCESS_KEY_ID']=config.get('AWS','AWS_ACCESS_KEY_ID')\n",
    "os.environ['AWS_SECRET_ACCESS_KEY']=config.get('AWS','AWS_SECRET_ACCESS_KEY')\n",
    "\n",
    "# define paths to data\n",
    "airport_datapath = config.get('S3','S3_INPUT_AIRPORTS')\n",
    "demograf_datapath = config.get('S3','S3_INPUT_DEMOGRAF')\n",
    "immigr_datapath = config.get('S3','S3_INPUT_IMMGR')\n",
    "iata_datapath = config.get('S3','S3_INPUT_IATA')\n",
    "s3_output = config.get('S3','S3_OUTPUT')"
   ]
  },
  {
   "cell_type": "code",
   "execution_count": 3,
   "metadata": {
    "editable": true
   },
   "outputs": [],
   "source": [
    "#Spark Session\n",
    "spark = SparkSession.builder\\\n",
    ".config(\"spark.jars.repositories\", \"https://repos.spark-packages.org/\")\\\n",
    ".config(\"spark.jars.packages\", \"saurfang:spark-sas7bdat:2.0.0-s_2.11\")\\\n",
    ".config(\"spark.jars.packages\", \"org.apache.hadoop:hadoop-aws:2.7.0\")\\\n",
    ".config(\"spark.hadoop.fs.s3a.impl\",\"org.apache.hadoop.fs.s3a.S3AFileSystem\")\\\n",
    ".enableHiveSupport().getOrCreate()"
   ]
  },
  {
   "cell_type": "code",
   "execution_count": 4,
   "metadata": {
    "editable": true
   },
   "outputs": [],
   "source": [
    "# Define your functions here\n",
    "\n",
    "# This function converts SAS dates into datetime\n",
    "def convertSasDate(d):\n",
    "    if(type(d)==int or type(d)==float):\n",
    "        d = d\n",
    "    else:\n",
    "        d = 0\n",
    "    return(pd.to_timedelta(d, unit='D') + pd.Timestamp('1960-1-1'))\n",
    "convertSasDateUDF = udf(lambda x: convertSasDate(x),T.DateType())\n",
    "\n",
    "\n",
    "# Function to check if tables have data\n",
    "def tableNotEmptyCheck(spark, table):\n",
    "    tableCheck = spark.sql(\"\"\"\n",
    "            Select count(*)\n",
    "            FROM {}\n",
    "        \"\"\".format(table))\n",
    "    if tableCheck.collect()[0][0]>0:\n",
    "        print(\"QC passed. Table {} is not empty and has {} rows\".format(table,tableCheck.collect()[0][0]))\n",
    "    else:\n",
    "        print(\"WARNING, Table {} has {} rows. ! Check your code\".format(table,tableCheck.collect()[0][0]))"
   ]
  },
  {
   "cell_type": "markdown",
   "metadata": {
    "editable": true
   },
   "source": [
    "### Step 1: Scope the Project and Gather Data\n",
    "\n",
    "#### Scope \n",
    "This project uses 4 data sources described below. The pipeline processes immigration data and loads it into a data lake on S3 server as a set of parquete files. \n",
    "The end solution includes 3 parquete files:\n",
    "- Immigration data: each row is an event of a person entering the US.\n",
    "- Demografic data: contains info about each city in the US (avg median age, population, avg household size, etc.)\n",
    "- Airport Data: airport description contaning IATA code, location and other details  \n",
    "\n",
    "All three data sets can be joined via IATA code\n",
    "\n",
    "#### Input Data\n",
    "* I94 Immigration Data: SAS file for each month of 2016. \n",
    "    This data comes from US National Tourism and Trade Office, and the original\n",
    "    source: https://travel.trade.gov/research/reports/i94/historical/2016.html \n",
    "* U.S. City Demographic Data: CSV file with information on US City demographics:\n",
    "    population -male, female, median income etc. \n",
    "    Source: https://public.opendatasoft.com/explore/dataset/us-cities-demographics/export/\n",
    "* Airport Code Table: CSV file with table of airport codes and corresponding cities\n",
    "    source: https://datahub.io/core/airport-codes#data\n",
    "* IATA data: CSV file, lookup to get IATA code to airport name, city, state\n",
    "    Source: https://www.airportcodes.us/us-airports.htm\n"
   ]
  },
  {
   "cell_type": "code",
   "execution_count": 5,
   "metadata": {
    "editable": true
   },
   "outputs": [],
   "source": [
    "# reading data\n",
    "df_airports = spark.read.format('csv').options(header='true').load(airport_datapath)\n",
    "df_immg = spark.read.parquet(immigr_datapath)\n",
    "df_demograf = spark.read.format('csv').options(header='true', sep=';',inferSchema=True).load(demograf_datapath)\n",
    "df_iateCodes = spark.read.format('csv').options(header='true').load(iata_datapath)"
   ]
  },
  {
   "cell_type": "markdown",
   "metadata": {
    "editable": true
   },
   "source": [
    "### Step 2: Explore and Assess the Data\n",
    "\n",
    "#### Cleaning Steps\n",
    "* Select needed fields\n",
    "* Convert SAS date format into a datetime format\n",
    "* Remove NA values from iata codes as it is used for mapping"
   ]
  },
  {
   "cell_type": "code",
   "execution_count": 6,
   "metadata": {
    "editable": true
   },
   "outputs": [
    {
     "name": "stdout",
     "output_type": "stream",
     "text": [
      "root\n",
      " |-- cicid: double (nullable = true)\n",
      " |-- i94yr: double (nullable = true)\n",
      " |-- i94cit: double (nullable = true)\n",
      " |-- i94res: double (nullable = true)\n",
      " |-- i94port: string (nullable = true)\n",
      " |-- arrdate: date (nullable = true)\n",
      " |-- i94mode: double (nullable = true)\n",
      " |-- i94addr: string (nullable = true)\n",
      " |-- depdate: double (nullable = true)\n",
      " |-- i94bir: double (nullable = true)\n",
      " |-- i94visa: double (nullable = true)\n",
      " |-- count: double (nullable = true)\n",
      " |-- dtadfile: string (nullable = true)\n",
      " |-- visapost: string (nullable = true)\n",
      " |-- occup: string (nullable = true)\n",
      " |-- entdepa: string (nullable = true)\n",
      " |-- entdepd: string (nullable = true)\n",
      " |-- entdepu: string (nullable = true)\n",
      " |-- matflag: string (nullable = true)\n",
      " |-- biryear: double (nullable = true)\n",
      " |-- dtaddto: string (nullable = true)\n",
      " |-- gender: string (nullable = true)\n",
      " |-- insnum: string (nullable = true)\n",
      " |-- airline: string (nullable = true)\n",
      " |-- admnum: double (nullable = true)\n",
      " |-- fltno: string (nullable = true)\n",
      " |-- visatype: string (nullable = true)\n",
      " |-- i94mon: double (nullable = true)\n",
      "\n",
      "+---------+------+------+------+-------+----------+-------+-------+-------+------+-------+-----+--------+--------+-----+-------+-------+-------+-------+-------+--------+------+------+-------+---------------+-----+--------+------+\n",
      "|    cicid| i94yr|i94cit|i94res|i94port|   arrdate|i94mode|i94addr|depdate|i94bir|i94visa|count|dtadfile|visapost|occup|entdepa|entdepd|entdepu|matflag|biryear| dtaddto|gender|insnum|airline|         admnum|fltno|visatype|i94mon|\n",
      "+---------+------+------+------+-------+----------+-------+-------+-------+------+-------+-----+--------+--------+-----+-------+-------+-------+-------+-------+--------+------+------+-------+---------------+-----+--------+------+\n",
      "|5748517.0|2016.0| 245.0| 438.0|    LOS|2016-04-30|    1.0|     CA|20582.0|  40.0|    1.0|  1.0|20160430|     SYD| null|      G|      O|   null|      M| 1976.0|10292016|     F|  null|     QF| 9.495387003E10|00011|      B1|   4.0|\n",
      "|2483726.0|2016.0| 111.0| 111.0|    NEW|2016-04-14|    1.0|     NY|20562.0|  15.0|    2.0|  1.0|20160414|    null| null|      G|      O|   null|      M| 2001.0|07122016|     M|  null|     LH|5.6145255033E10|00402|      WT|   4.0|\n",
      "|5748518.0|2016.0| 245.0| 438.0|    LOS|2016-04-30|    1.0|     NV|20591.0|  32.0|    1.0|  1.0|20160430|     SYD| null|      G|      O|   null|      M| 1984.0|10292016|     F|  null|     VA| 9.495562283E10|00007|      B1|   4.0|\n",
      "|2483727.0|2016.0| 111.0| 111.0|    NEW|2016-04-14|    1.0|     NY|20562.0|  14.0|    2.0|  1.0|20160414|    null| null|      G|      O|   null|      M| 2002.0|07122016|     M|  null|     LH|5.6145122033E10|00402|      WT|   4.0|\n",
      "|5748519.0|2016.0| 245.0| 438.0|    LOS|2016-04-30|    1.0|     WA|20582.0|  29.0|    1.0|  1.0|20160430|     SYD| null|      G|      O|   null|      M| 1987.0|10292016|     M|  null|     DL| 9.495640653E10|00040|      B1|   4.0|\n",
      "+---------+------+------+------+-------+----------+-------+-------+-------+------+-------+-----+--------+--------+-----+-------+-------+-------+-------+-------+--------+------+------+-------+---------------+-----+--------+------+\n",
      "only showing top 5 rows\n",
      "\n"
     ]
    }
   ],
   "source": [
    "# Cleanining immigration data\n",
    "df_immg=df_immg.na.drop(subset=['i94port'])\n",
    "df_immg = df_immg.withColumn('arrdate',convertSasDateUDF(df_immg.arrdate))\n",
    "df_immg.printSchema()\n",
    "df_immg.show(5)"
   ]
  },
  {
   "cell_type": "code",
   "execution_count": 7,
   "metadata": {
    "editable": true
   },
   "outputs": [
    {
     "name": "stdout",
     "output_type": "stream",
     "text": [
      "root\n",
      " |-- ident: string (nullable = true)\n",
      " |-- type: string (nullable = true)\n",
      " |-- name: string (nullable = true)\n",
      " |-- elevation_ft: string (nullable = true)\n",
      " |-- continent: string (nullable = true)\n",
      " |-- iso_country: string (nullable = true)\n",
      " |-- iso_region: string (nullable = true)\n",
      " |-- municipality: string (nullable = true)\n",
      " |-- gps_code: string (nullable = true)\n",
      " |-- iata_code: string (nullable = true)\n",
      " |-- local_code: string (nullable = true)\n",
      " |-- coordinates: string (nullable = true)\n",
      "\n",
      "+-----+-------------+--------------------+------------+---------+-----------+----------+-------------+--------+---------+----------+--------------------+\n",
      "|ident|         type|                name|elevation_ft|continent|iso_country|iso_region| municipality|gps_code|iata_code|local_code|         coordinates|\n",
      "+-----+-------------+--------------------+------------+---------+-----------+----------+-------------+--------+---------+----------+--------------------+\n",
      "|  03N|small_airport|      Utirik Airport|           4|       OC|         MH|    MH-UTI|Utirik Island|    K03N|      UTK|       03N|  169.852005, 11.222|\n",
      "| 07FA|small_airport|Ocean Reef Club A...|           8|       NA|         US|     US-FL|    Key Largo|    07FA|      OCA|      07FA|-80.274803161621,...|\n",
      "|  0AK|small_airport|Pilot Station Air...|         305|       NA|         US|     US-AK|Pilot Station|    null|      PQS|       0AK|-162.899994, 61.9...|\n",
      "| 0CO2|small_airport|Crested Butte Air...|        8980|       NA|         US|     US-CO|Crested Butte|    0CO2|      CSE|      0CO2|-106.928341, 38.8...|\n",
      "| 0TE7|small_airport|   LBJ Ranch Airport|        1515|       NA|         US|     US-TX| Johnson City|    0TE7|      JCY|      0TE7|-98.6224975585999...|\n",
      "+-----+-------------+--------------------+------------+---------+-----------+----------+-------------+--------+---------+----------+--------------------+\n",
      "only showing top 5 rows\n",
      "\n"
     ]
    }
   ],
   "source": [
    "#cleaning airport data\n",
    "df_airports=df_airports.na.drop(subset=['iata_code'])\n",
    "df_airports.printSchema()\n",
    "df_airports.show(5)"
   ]
  },
  {
   "cell_type": "code",
   "execution_count": 8,
   "metadata": {
    "editable": true
   },
   "outputs": [
    {
     "name": "stdout",
     "output_type": "stream",
     "text": [
      "root\n",
      " |-- City: string (nullable = true)\n",
      " |-- State: string (nullable = true)\n",
      " |-- Median Age: double (nullable = true)\n",
      " |-- Male Population: integer (nullable = true)\n",
      " |-- Female Population: integer (nullable = true)\n",
      " |-- Total Population: integer (nullable = true)\n",
      " |-- Number of Veterans: integer (nullable = true)\n",
      " |-- Foreign-born: integer (nullable = true)\n",
      " |-- Average Household Size: double (nullable = true)\n",
      " |-- State Code: string (nullable = true)\n",
      "\n",
      "+------------+-------------+----------+---------------+-----------------+----------------+------------------+------------+----------------------+----------+\n",
      "|        City|        State|Median Age|Male Population|Female Population|Total Population|Number of Veterans|Foreign-born|Average Household Size|State Code|\n",
      "+------------+-------------+----------+---------------+-----------------+----------------+------------------+------------+----------------------+----------+\n",
      "|  Somerville|Massachusetts|      31.0|          41028|            39306|           80334|              2103|       22292|                  2.43|        MA|\n",
      "|     Manteca|   California|      35.3|          37053|            38397|           75450|              3936|       13942|                  3.25|        CA|\n",
      "|Casas Adobes|      Arizona|      44.8|          30890|            34375|           65265|              6601|        7024|                  2.24|        AZ|\n",
      "|   Baltimore|     Maryland|      34.7|         294027|           327822|          621849|             29540|       49857|                  2.51|        MD|\n",
      "|    Missoula|      Montana|      34.7|          35002|            36022|           71024|              4733|        2771|                  2.15|        MT|\n",
      "+------------+-------------+----------+---------------+-----------------+----------------+------------------+------------+----------------------+----------+\n",
      "only showing top 5 rows\n",
      "\n"
     ]
    }
   ],
   "source": [
    "# Cleaning Demografic data\n",
    "df_demograf=df_demograf.na.drop(subset=['City','State'])\n",
    "#remove City-State duplicates\n",
    "df_demograf = df_demograf.drop('Race','Count')\n",
    "df_demograf=df_demograf.distinct()\n",
    "df_demograf.printSchema()\n",
    "df_demograf.show(5)"
   ]
  },
  {
   "cell_type": "markdown",
   "metadata": {
    "editable": true
   },
   "source": [
    "### Step 3: Define the Data Model\n",
    "#### 3.1 Conceptual Data Model\n",
    "This project is designed as a star schema with 1 fact and multiple dimensonal tables. This solution allows efficient querying and optimizes execution speed. \n",
    "\n",
    "#### 3.2 Mapping Out Data Pipelines\n",
    "Input data is stored in an S3 location. The pipeline loads each data file into a staging table from which final tables are created and are loaded into a data lake on S3 as a set of parquete files. Fact and dimensional tables can be mapped through the iata code.\n",
    "\n",
    "#### Data Model\n",
    "* Fact Table. Immigration  </br>\n",
    "Contains transactional data where each transaction is an event of one person arriving to the US. Maps to other tables via IATA codes (i94port field)\n",
    "* Dimension Table #1: Airports. </br> \n",
    "Airport data including airport exact coordinates, description, IATA code, city, name, etc. Can be mapped to the fact table via iata_code\n",
    "* Dimension Table #2: Demografic. </br>\n",
    "Info about US cities. This table joins demografic data with IATA codes (iata data source). Demografic table contains city name, city`s population, median age, etc. it alllows to understand what locations are more popular among immigrants. \n",
    "\n",
    "<img src=\"diagram.png\"\n",
    "     alt=\"Schema\"\n",
    " />"
   ]
  },
  {
   "cell_type": "markdown",
   "metadata": {
    "editable": true
   },
   "source": [
    "### Step 4: Run Pipelines to Model the Data "
   ]
  },
  {
   "cell_type": "code",
   "execution_count": 9,
   "metadata": {
    "editable": true
   },
   "outputs": [
    {
     "name": "stdout",
     "output_type": "stream",
     "text": [
      "+---------+------+-------+----------+-------+--------+-------+------+--------+\n",
      "|    cicid|I94mon|i94port|   arrdate|i94addr|    visa|biryear|gender|visatype|\n",
      "+---------+------+-------+----------+-------+--------+-------+------+--------+\n",
      "|5748517.0|   4.0|    LOS|2016-04-30|     CA|Business| 1976.0|     F|      B1|\n",
      "|2483726.0|   4.0|    NEW|2016-04-14|     NY|Pleasure| 2001.0|     M|      WT|\n",
      "|5748518.0|   4.0|    LOS|2016-04-30|     NV|Business| 1984.0|     F|      B1|\n",
      "|2483727.0|   4.0|    NEW|2016-04-14|     NY|Pleasure| 2002.0|     M|      WT|\n",
      "|5748519.0|   4.0|    LOS|2016-04-30|     WA|Business| 1987.0|     M|      B1|\n",
      "|2483728.0|   4.0|    NEW|2016-04-14|     NY|Pleasure| 2003.0|     M|      WT|\n",
      "|5748520.0|   4.0|    LOS|2016-04-30|     WA|Business| 1987.0|     F|      B1|\n",
      "|2483729.0|   4.0|    NEW|2016-04-14|     NY|Pleasure| 2005.0|     F|      WT|\n",
      "|5748521.0|   4.0|    LOS|2016-04-30|     WA|Business| 1988.0|     M|      B1|\n",
      "|2483730.0|   4.0|    NEW|2016-04-14|     NY|Business| 1951.0|     M|      WB|\n",
      "|5748522.0|   4.0|    HHW|2016-04-30|     HI|Pleasure| 1959.0|     M|      B2|\n",
      "|2483731.0|   4.0|    NEW|2016-04-14|     NY|Pleasure| 1959.0|     F|      WT|\n",
      "|5748523.0|   4.0|    HHW|2016-04-30|     HI|Pleasure| 1950.0|     F|      B2|\n",
      "|2483732.0|   4.0|    NEW|2016-04-14|     NY|Pleasure| 1964.0|     F|      WT|\n",
      "|5748524.0|   4.0|    HHW|2016-04-30|     HI|Pleasure| 1975.0|     F|      B2|\n",
      "|2483733.0|   4.0|    NEW|2016-04-14|     NY|Pleasure| 1964.0|     M|      WT|\n",
      "|5748525.0|   4.0|    HOU|2016-04-30|     FL|Pleasure| 1989.0|     M|      B2|\n",
      "|2483734.0|   4.0|    NEW|2016-04-14|     NY|Pleasure| 1964.0|     M|      WT|\n",
      "|5748526.0|   4.0|    LOS|2016-04-30|     CA|Pleasure| 1990.0|     F|      B2|\n",
      "|2483735.0|   4.0|    NEW|2016-04-14|     NY|Pleasure| 1967.0|     M|      WT|\n",
      "+---------+------+-------+----------+-------+--------+-------+------+--------+\n",
      "only showing top 20 rows\n",
      "\n",
      "root\n",
      " |-- cicid: double (nullable = true)\n",
      " |-- I94mon: double (nullable = true)\n",
      " |-- i94port: string (nullable = true)\n",
      " |-- arrdate: date (nullable = true)\n",
      " |-- i94addr: string (nullable = true)\n",
      " |-- visa: string (nullable = false)\n",
      " |-- biryear: double (nullable = true)\n",
      " |-- gender: string (nullable = true)\n",
      " |-- visatype: string (nullable = true)\n",
      "\n"
     ]
    }
   ],
   "source": [
    "# Extract Immigration data\n",
    "df_immg.createOrReplaceTempView(\"immigration_stage\")\n",
    "immigration = spark.sql(\"\"\"\n",
    "    SELECT \n",
    "        cicid,\n",
    "        I94mon,\n",
    "        i94port,\n",
    "        arrdate,\n",
    "        i94addr,\n",
    "        CASE\n",
    "            WHEN i94visa = 1 THEN 'Business'\n",
    "            WHEN i94visa = 2 THEN 'Pleasure'\n",
    "            WHEN i94visa = 3 THEN 'Student'\n",
    "            ELSE 'Not Defined'\n",
    "        END as visa,\n",
    "        biryear,\n",
    "        gender,\n",
    "        visatype\n",
    "    FROM immigration_stage \n",
    "    LIMIT 1000000\n",
    "\"\"\")\n",
    "immigration.show()\n",
    "immigration.printSchema()"
   ]
  },
  {
   "cell_type": "code",
   "execution_count": 10,
   "metadata": {
    "editable": true
   },
   "outputs": [
    {
     "name": "stdout",
     "output_type": "stream",
     "text": [
      "+-----+-------------+--------------------+------------+---------+-----------+----------+-------------+--------+---------+----------+--------------------+\n",
      "|ident|         type|                name|elevation_ft|continent|iso_country|iso_region| municipality|gps_code|iata_code|local_code|         coordinates|\n",
      "+-----+-------------+--------------------+------------+---------+-----------+----------+-------------+--------+---------+----------+--------------------+\n",
      "|  03N|small_airport|      Utirik Airport|           4|       OC|         MH|    MH-UTI|Utirik Island|    K03N|      UTK|       03N|  169.852005, 11.222|\n",
      "| 07FA|small_airport|Ocean Reef Club A...|           8|       NA|         US|     US-FL|    Key Largo|    07FA|      OCA|      07FA|-80.274803161621,...|\n",
      "|  0AK|small_airport|Pilot Station Air...|         305|       NA|         US|     US-AK|Pilot Station|    null|      PQS|       0AK|-162.899994, 61.9...|\n",
      "| 0CO2|small_airport|Crested Butte Air...|        8980|       NA|         US|     US-CO|Crested Butte|    0CO2|      CSE|      0CO2|-106.928341, 38.8...|\n",
      "| 0TE7|small_airport|   LBJ Ranch Airport|        1515|       NA|         US|     US-TX| Johnson City|    0TE7|      JCY|      0TE7|-98.6224975585999...|\n",
      "+-----+-------------+--------------------+------------+---------+-----------+----------+-------------+--------+---------+----------+--------------------+\n",
      "only showing top 5 rows\n",
      "\n",
      "root\n",
      " |-- ident: string (nullable = true)\n",
      " |-- type: string (nullable = true)\n",
      " |-- name: string (nullable = true)\n",
      " |-- elevation_ft: string (nullable = true)\n",
      " |-- continent: string (nullable = true)\n",
      " |-- iso_country: string (nullable = true)\n",
      " |-- iso_region: string (nullable = true)\n",
      " |-- municipality: string (nullable = true)\n",
      " |-- gps_code: string (nullable = true)\n",
      " |-- iata_code: string (nullable = true)\n",
      " |-- local_code: string (nullable = true)\n",
      " |-- coordinates: string (nullable = true)\n",
      "\n"
     ]
    }
   ],
   "source": [
    "# Extract airport data\n",
    "df_airports.createOrReplaceTempView(\"airports_stage\")\n",
    "airports = spark.sql(\"\"\"\n",
    "    SELECT \n",
    "        *\n",
    "    FROM airports_stage \n",
    "    where iata_code is not null\n",
    "\"\"\")\n",
    "df_airports.show(5)\n",
    "df_airports.printSchema()"
   ]
  },
  {
   "cell_type": "code",
   "execution_count": 11,
   "metadata": {
    "editable": true
   },
   "outputs": [
    {
     "name": "stdout",
     "output_type": "stream",
     "text": [
      "root\n",
      " |-- city: string (nullable = true)\n",
      " |-- state: string (nullable = true)\n",
      " |-- median_age: double (nullable = true)\n",
      " |-- male_population: integer (nullable = true)\n",
      " |-- female_population: integer (nullable = true)\n",
      " |-- total_population: integer (nullable = true)\n",
      " |-- num_of_veterans: integer (nullable = true)\n",
      " |-- foreign_born: integer (nullable = true)\n",
      " |-- avg_household_size: double (nullable = true)\n",
      " |-- state_code: string (nullable = true)\n",
      " |-- code: string (nullable = true)\n",
      "\n",
      "+------+--------+----------+---------------+-----------------+----------------+---------------+------------+------------------+----------+----+\n",
      "|  city|   state|median_age|male_population|female_population|total_population|num_of_veterans|foreign_born|avg_household_size|state_code|code|\n",
      "+------+--------+----------+---------------+-----------------+----------------+---------------+------------+------------------+----------+----+\n",
      "|Albany| Georgia|      33.3|          31695|            39414|           71109|           5409|         861|              2.38|        GA| ABY|\n",
      "|Albany|New York|      32.8|          47627|            50825|           98452|           3643|       11948|              2.08|        NY| ALB|\n",
      "+------+--------+----------+---------------+-----------------+----------------+---------------+------------+------------------+----------+----+\n",
      "\n",
      "+-------------+------------+----------+---------------+-----------------+----------------+---------------+------------+------------------+----------+----+\n",
      "|         city|       state|median_age|male_population|female_population|total_population|num_of_veterans|foreign_born|avg_household_size|state_code|code|\n",
      "+-------------+------------+----------+---------------+-----------------+----------------+---------------+------------+------------------+----------+----+\n",
      "|     Missoula|     Montana|      34.7|          35002|            36022|           71024|           4733|        2771|              2.15|        MT| MSO|\n",
      "|    San Diego|  California|      34.5|         693826|           701081|         1394907|          92489|      373842|              2.73|        CA| SAN|\n",
      "|    Milwaukee|   Wisconsin|      31.6|         286315|           313839|          600154|          20615|       58321|              2.51|        WI| MKE|\n",
      "|      Chicago|    Illinois|      34.2|        1320015|          1400541|         2720556|          72042|      573463|              2.53|        IL| ORD|\n",
      "|      Chicago|    Illinois|      34.2|        1320015|          1400541|         2720556|          72042|      573463|              2.53|        IL| MDW|\n",
      "|      Chicago|    Illinois|      34.2|        1320015|          1400541|         2720556|          72042|      573463|              2.53|        IL| CGX|\n",
      "|      Killeen|       Texas|      29.2|          69442|            71367|          140809|          24281|       15769|              2.72|        TX| ILE|\n",
      "| Indianapolis|     Indiana|      34.1|         410615|           437808|          848423|          42186|       72456|              2.53|        IN| MQJ|\n",
      "| Indianapolis|     Indiana|      34.1|         410615|           437808|          848423|          42186|       72456|              2.53|        IN| IND|\n",
      "|   Tuscaloosa|     Alabama|      29.1|          47293|            51045|           98338|           3647|        4706|              2.67|        AL| TCL|\n",
      "|        Chico|  California|      29.9|          46168|            44168|           90336|           4519|        8425|               2.5|        CA| CIC|\n",
      "|San Francisco|  California|      38.3|         439752|           425064|          864816|          26276|      297199|              2.37|        CA| SFO|\n",
      "|       Albany|     Georgia|      33.3|          31695|            39414|           71109|           5409|         861|              2.38|        GA| ABY|\n",
      "|  Tallahassee|     Florida|      26.2|          89390|           100504|          189894|           9575|       16720|              2.38|        FL| TLH|\n",
      "|  Sioux Falls|South Dakota|      34.6|          86596|            84934|          171530|           8658|       12934|              2.38|        SD| FSD|\n",
      "|      Trenton|  New Jersey|      33.3|          42581|            41650|           84231|           2604|       20428|              3.04|        NJ| TTN|\n",
      "|     Goodyear|     Arizona|      38.6|          36711|            42292|           79003|           7650|       11774|              2.97|        AZ| GYR|\n",
      "|       Peoria|    Illinois|      33.1|          56229|            62432|          118661|           6634|        7517|               2.4|        IL| PIA|\n",
      "|      Lincoln|    Nebraska|      32.3|         138544|           138802|          277346|          14694|       22958|               2.4|        NE| LNK|\n",
      "|     Santa Fe|  New Mexico|      44.1|          40601|            43511|           84112|           5083|       13824|              2.41|        NM| SAF|\n",
      "+-------------+------------+----------+---------------+-----------------+----------------+---------------+------------+------------------+----------+----+\n",
      "only showing top 20 rows\n",
      "\n"
     ]
    }
   ],
   "source": [
    "# Extract Demografic Data\n",
    "df_iateCodes.createOrReplaceTempView(\"iata_codes\")\n",
    "df_demograf.createOrReplaceTempView(\"demograf_stage\")\n",
    "demografy = spark.sql(\"\"\"\n",
    "    SELECT \n",
    "        demograf.City as city,\n",
    "        demograf.State as state,\n",
    "        demograf.`Median Age` as median_age,\n",
    "        demograf.`Male Population` as male_population,\n",
    "        demograf.`Female Population` as female_population,\n",
    "        demograf.`Total Population` as total_population,\n",
    "        demograf.`Number of Veterans` as num_of_veterans,\n",
    "        demograf.`Foreign-born` as foreign_born,\n",
    "        demograf.`Average Household Size` as avg_household_size,\n",
    "        demograf.`State Code` as state_code,     \n",
    "        iata.Code as code\n",
    "    FROM demograf_stage AS demograf\n",
    "    LEFT JOIN iata_codes AS iata\n",
    "    ON demograf.city=iata.City and demograf.`State Code`=iata.State\n",
    "    where code is not null\n",
    "\"\"\")\n",
    "demografy.printSchema()\n",
    "demografy.filter(demografy.city=='Albany').show()\n",
    "demografy.filter(demografy.code!='').show()"
   ]
  },
  {
   "cell_type": "code",
   "execution_count": 12,
   "metadata": {
    "editable": true
   },
   "outputs": [],
   "source": [
    "# Writing data to the Data Lake (S3), parquete files\n",
    "\n",
    "demografy.write.mode('overwrite').partitionBy('State').parquet(s3_output+'demografy.parquet')\n",
    "airports.write.mode('overwrite').parquet(s3_output+'airports.parquet')\n",
    "immigration.write.mode('overwrite').partitionBy('I94mon').parquet(s3_output+'immigration.parquet')"
   ]
  },
  {
   "cell_type": "markdown",
   "metadata": {
    "editable": true
   },
   "source": [
    "#### 4.2 Data Quality Checks\n",
    "Basic quality checks to ensure data can be properly mapped and tables are not empty. "
   ]
  },
  {
   "cell_type": "code",
   "execution_count": 13,
   "metadata": {
    "editable": true
   },
   "outputs": [],
   "source": [
    "demografy.createOrReplaceTempView(\"demografy\")\n",
    "airports.createOrReplaceTempView(\"airports\")\n",
    "immigration.createOrReplaceTempView(\"immigration\")"
   ]
  },
  {
   "cell_type": "code",
   "execution_count": 15,
   "metadata": {
    "editable": true
   },
   "outputs": [
    {
     "name": "stdout",
     "output_type": "stream",
     "text": [
      "QC passed. Table airports is not empty and has 9189 rows\n",
      "QC passed. Table immigration is not empty and has 1000000 rows\n",
      "QC passed. Table demografy is not empty and has 243 rows\n"
     ]
    }
   ],
   "source": [
    "# Check if tables have data\n",
    "tableNotEmptyCheck(spark,'airports')\n",
    "tableNotEmptyCheck(spark,'immigration')\n",
    "tableNotEmptyCheck(spark,'demografy')"
   ]
  },
  {
   "cell_type": "code",
   "execution_count": 16,
   "metadata": {
    "editable": true
   },
   "outputs": [
    {
     "name": "stdout",
     "output_type": "stream",
     "text": [
      "tables can properly join and return result. Example: Row(cicid=3548566.0, i94port='PVD', visa='Pleasure', iata_code='PVD', municipality='Providence', code='PVD', city='Providence', state='Rhode Island')\n"
     ]
    }
   ],
   "source": [
    "# Check if tables can join and return results.\n",
    "joinTables = spark.sql(\"\"\"\n",
    "    Select \n",
    "        i.cicid,\n",
    "        i.i94port,\n",
    "        i.visa,\n",
    "        a.iata_code,\n",
    "        a.municipality,\n",
    "        d.code,\n",
    "        d.city,\n",
    "        d.state\n",
    "    FROM\n",
    "        immigration i,\n",
    "        airports a,\n",
    "        demografy d\n",
    "    where i.i94port=a.iata_code and i.i94port=d.code \n",
    "    and i94port is not null\n",
    "    LIMIT 1\n",
    "    \"\"\")\n",
    "joinTablesResults = joinTables.collect()\n",
    "\n",
    "if len(joinTablesResults)>0:\n",
    "    print(\"tables can properly join and return result. Example: {}\".format(joinTablesResults[0]))\n",
    "else:\n",
    "    print(\"Warning, tables cannot join. Join returns {} rows and {} columns\".format(len(joinTablesResults),len(joinTablesResults[0])))"
   ]
  },
  {
   "cell_type": "markdown",
   "metadata": {
    "editable": true
   },
   "source": [
    "#### 4.3 Output Data and Query Examples\n",
    "- Folder Output data samples contains samples of data expected to generate by this pipeline\n",
    "\n",
    "A typical query example is present below. It finds a population distribution for each types of visa\n"
   ]
  },
  {
   "cell_type": "code",
   "execution_count": 17,
   "metadata": {
    "editable": true
   },
   "outputs": [
    {
     "name": "stdout",
     "output_type": "stream",
     "text": [
      "Visa type and populations\n",
      "+--------+----------------+--------------+---------------------+\n",
      "|    visa|            city|         state|avg(total_population)|\n",
      "+--------+----------------+--------------+---------------------+\n",
      "|Business|       Melbourne|       Florida|              80136.0|\n",
      "|Business|           Ogden|          Utah|              85450.0|\n",
      "|Business|        Carlsbad|    California|             113466.0|\n",
      "|Business|           Fargo|  North Dakota|             119250.0|\n",
      "|Business|     Victorville|    California|             122236.0|\n",
      "|Business|         Midland|         Texas|             132950.0|\n",
      "|Business|        Columbia|South Carolina|             133393.0|\n",
      "|Business|      Charleston|South Carolina|             135524.0|\n",
      "|Business|        Syracuse|      New York|             144152.0|\n",
      "|Business|        Savannah|       Georgia|             145684.0|\n",
      "|Business|         Ontario|    California|             171200.0|\n",
      "|Business|      Providence|  Rhode Island|             179204.0|\n",
      "|Business|     Brownsville|         Texas|             183888.0|\n",
      "|Business|      Huntsville|       Alabama|             189114.0|\n",
      "|Business|  Salt Lake City|          Utah|             192660.0|\n",
      "|Business|       Rochester|      New York|             209808.0|\n",
      "|Business|Saint Petersburg|       Florida|             257088.0|\n",
      "|Business|         Buffalo|      New York|             258066.0|\n",
      "|Business|      Fort Wayne|       Indiana|             258144.0|\n",
      "|Business|      Cincinnati|          Ohio|             298537.0|\n",
      "+--------+----------------+--------------+---------------------+\n",
      "only showing top 20 rows\n",
      "\n"
     ]
    }
   ],
   "source": [
    "print(\"Visa type and populations\")\n",
    "spark.sql(\"\"\"\n",
    "    Select \n",
    "        i.visa,\n",
    "        d.city,\n",
    "        d.state,\n",
    "        avg(d.total_population)\n",
    "    FROM\n",
    "        immigration as i,\n",
    "        airports as  a,\n",
    "        demografy as d\n",
    "    where i.i94port=a.iata_code and i.i94port=d.code \n",
    "    group by 1,2,3\n",
    "    order by 1,4\n",
    "\"\"\").show()"
   ]
  },
  {
   "cell_type": "markdown",
   "metadata": {
    "editable": true
   },
   "source": [
    "#### 4.4 Data dictionary \n",
    "(1) Immigration Table - Created from the I94 SAS files.\n",
    "    Fields:\n",
    "\n",
    "     cicid: integer - unique ID for each immigrant used as PK for this table\n",
    "     iata_code: string - Airport code e.g. BOS -> Boston, NYC - New York City\n",
    "     State: string - Standard US state e.g. CA -> California, NY -> New York\n",
    "     arrival_date: date - data of arrival YYYY-MM-DD\n",
    "     visa: double- visa code, e.g. 1 = Business, 2 = Pleasure\n",
    "     visa_type: string visa type per visa code e.g. Business, Student\n",
    "     gender: string - Non immigrant sex e.g. M, F\n",
    "     birth_year: integer - 4 digit year of birth\n",
    "\n",
    "(2) Airport Table - Created from airport code csv file\n",
    "    Fields:\n",
    "\n",
    "    airport_name: string e.g. Abu Dhabi International Airport\n",
    "    region: string - Region of the airport e.g AE-AZ\n",
    "    muncipality: string - e.g. Abu Dhabi\n",
    "    iata_code: string - 3-digit Airport code, e.g. ALV\n",
    "    coordinate_x: string - can be used to find location airport\n",
    "    coordinate_y: string  - can be used to find location airport\n",
    "\n",
    "(3) Demografic Table - created from US city demographics csv file\n",
    "    Fields:\n",
    "\n",
    "     city: string - City for the airport e.g. San Francisco \n",
    "     state: string - State e.g California\n",
    "     median_age: string - median age for the population in that city\n",
    "     male_population: string - male population for this city\n",
    "     female_population: string - female population for this city\n",
    "     total_population: string - total population for this city\n",
    "     num_of_veterans: string - number of veterans living in the city\n",
    "     foreign_born: string - how many are foreign born in that city\n",
    "     avg_household_size - average household size in the city\n",
    "     state_code: string - State abbr. e.g CA\n",
    "     race: string - race name\n",
    "     count: int - number of people related to this race in this city\n",
    "     iata_code: string - 3-digit Airport code e.g. SFO\n",
    "\n",
    "\n",
    "\n"
   ]
  },
  {
   "cell_type": "markdown",
   "metadata": {
    "editable": true
   },
   "source": [
    "#### Step 5: Complete Project Write Up\n",
    "Combined number of records in all data sets used in this project exceeds 1M lines. Thus, it is more rational to leverage a distributed data processing using Spark on AWS cluster. In order to easy the data loading process all input files were placed to the S3 storage into the \"inbound data\" folder. Immigration raw data underwent additional processing and was transofrmed from SAS to a parquete format which allows an efficient  data extraction process.  \n",
    "* Propose how often the data should be updated and why.\n",
    "    - The pipeline is supposed to run on a monthly basis since the fact table is based on immigration data partitioned by month\n",
    "* Write a description of how you would approach the problem differently under the following scenarios:\n",
    " * The data was increased by 100x.\n",
    "     - If data was increased by 100x it would require additional comptational capacity. It can be resollved by adding more work nodes to the AWS cluster.\n",
    " * The data populates a dashboard that must be updated on a daily basis by 7am every day.\n",
    "     - Immigration data should be re-partitioned and ETL can be refactored to process only data updated since the last run (a day before)\n",
    " * The database needed to be accessed by 100+ people.\n",
    "     - First, we would need to understand their needs and the purpose of usage. Based on this we could slice data to create a separate table and load this data into a BI tool for easy access"
   ]
  },
  {
   "cell_type": "code",
   "execution_count": null,
   "metadata": {
    "editable": true
   },
   "outputs": [],
   "source": []
  }
 ],
 "metadata": {
  "kernelspec": {
   "display_name": "Python 3",
   "language": "python",
   "name": "python3"
  },
  "language_info": {
   "codemirror_mode": {
    "name": "ipython",
    "version": 3
   },
   "file_extension": ".py",
   "mimetype": "text/x-python",
   "name": "python",
   "nbconvert_exporter": "python",
   "pygments_lexer": "ipython3",
   "version": "3.6.3"
  }
 },
 "nbformat": 4,
 "nbformat_minor": 4
}
